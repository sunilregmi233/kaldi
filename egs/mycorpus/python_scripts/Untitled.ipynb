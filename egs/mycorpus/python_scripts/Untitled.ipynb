{
 "cells": [
  {
   "cell_type": "code",
   "execution_count": 1,
   "metadata": {},
   "outputs": [
    {
     "name": "stdout",
     "output_type": "stream",
     "text": [
      "A\n",
      "\n",
      "\n",
      "\n"
     ]
    }
   ],
   "source": [
    "import re\n",
    "f = open(\"../data/local/lang/lexicon.txt\", \"r\")\n",
    "# print(f.read())\n",
    "for i in f:\n",
    "    line = re.sub('[12/]', '', i)\n",
    "    upper = line.upper()\n",
    "    print(line)\n",
    "    with open(\"lexicon1.txt\", \"a\") as file:\n",
    "        file.writelines(upper)\n",
    "    "
   ]
  },
  {
   "cell_type": "code",
   "execution_count": 17,
   "metadata": {},
   "outputs": [
    {
     "name": "stdout",
     "output_type": "stream",
     "text": [
      "1 SHE HAD YOUR DARK SUIT IN GREASY WASH WATER ALL YEAR\n",
      "2 DONT ASK ME TO CARRY AN OILY RAG LIKE THAT\n",
      "3 A SAILBOAT MAY HAVE A BONE IN HER TEETH ONE MINUTE AND LIE BECALMED THE NEXT.\n",
      "4 EVEN THEN IF SHE TOOK ONE STEP FORWARD HE COULD CATCH HER\n",
      "\n"
     ]
    }
   ],
   "source": [
    "f = open(\"../data/train/text.txt\", \"r\")\n",
    "line = f.read()\n",
    "line1 = line.upper()\n",
    "print(line1)\n",
    "   \n",
    "    \n",
    "    "
   ]
  },
  {
   "cell_type": "code",
   "execution_count": null,
   "metadata": {},
   "outputs": [],
   "source": []
  },
  {
   "cell_type": "code",
   "execution_count": null,
   "metadata": {},
   "outputs": [],
   "source": []
  }
 ],
 "metadata": {
  "kernelspec": {
   "display_name": "Python 3",
   "language": "python",
   "name": "python3"
  },
  "language_info": {
   "codemirror_mode": {
    "name": "ipython",
    "version": 3
   },
   "file_extension": ".py",
   "mimetype": "text/x-python",
   "name": "python",
   "nbconvert_exporter": "python",
   "pygments_lexer": "ipython3",
   "version": "3.8.5"
  }
 },
 "nbformat": 4,
 "nbformat_minor": 4
}
